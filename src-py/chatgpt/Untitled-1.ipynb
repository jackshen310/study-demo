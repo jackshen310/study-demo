{
 "cells": [
  {
   "cell_type": "code",
   "execution_count": null,
   "metadata": {},
   "outputs": [],
   "source": []
  }
 ],
 "metadata": {
  "kernelspec": {
   "display_name": "Python 3.10.7 ('.venv': venv)",
   "language": "python",
   "name": "python3"
  },
  "language_info": {
   "name": "python",
   "version": "3.10.7"
  },
  "orig_nbformat": 4,
  "vscode": {
   "interpreter": {
    "hash": "848c13d18f968beae7fee564c56dd5a0970b115d099a5da7bcc12565c6720dd1"
   }
  }
 },
 "nbformat": 4,
 "nbformat_minor": 2
}
